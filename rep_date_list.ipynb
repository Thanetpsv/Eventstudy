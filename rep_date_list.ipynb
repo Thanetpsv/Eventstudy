{
 "cells": [
  {
   "cell_type": "code",
   "execution_count": 1,
   "metadata": {},
   "outputs": [],
   "source": [
    "import pandas as pd"
   ]
  },
  {
   "cell_type": "code",
   "execution_count": 2,
   "metadata": {},
   "outputs": [],
   "source": [
    "merge = pd.read_csv(\"merge permno naics.csv\")\n",
    "merge_filt = merge[['LPERMNO', 'tic']]\n",
    "perm_list = []\n",
    "for perm in merge_filt['LPERMNO'].unique():\n",
    "    perm_list.append(perm)\n",
    "\n",
    "tic_list = []\n",
    "for tic in merge_filt['tic'].unique():\n",
    "    tic_list.append(tic)"
   ]
  },
  {
   "cell_type": "code",
   "execution_count": 3,
   "metadata": {},
   "outputs": [
    {
     "data": {
      "text/html": [
       "<div>\n",
       "<style scoped>\n",
       "    .dataframe tbody tr th:only-of-type {\n",
       "        vertical-align: middle;\n",
       "    }\n",
       "\n",
       "    .dataframe tbody tr th {\n",
       "        vertical-align: top;\n",
       "    }\n",
       "\n",
       "    .dataframe thead th {\n",
       "        text-align: right;\n",
       "    }\n",
       "</style>\n",
       "<table border=\"1\" class=\"dataframe\">\n",
       "  <thead>\n",
       "    <tr style=\"text-align: right;\">\n",
       "      <th></th>\n",
       "      <th>tic</th>\n",
       "      <th>permno</th>\n",
       "    </tr>\n",
       "  </thead>\n",
       "  <tbody>\n",
       "    <tr>\n",
       "      <th>0</th>\n",
       "      <td>BK</td>\n",
       "      <td>49656</td>\n",
       "    </tr>\n",
       "    <tr>\n",
       "      <th>1</th>\n",
       "      <td>JPM</td>\n",
       "      <td>47896</td>\n",
       "    </tr>\n",
       "    <tr>\n",
       "      <th>3</th>\n",
       "      <td>C</td>\n",
       "      <td>70519</td>\n",
       "    </tr>\n",
       "    <tr>\n",
       "      <th>4</th>\n",
       "      <td>FITB</td>\n",
       "      <td>34746</td>\n",
       "    </tr>\n",
       "    <tr>\n",
       "      <th>5</th>\n",
       "      <td>RF</td>\n",
       "      <td>35044</td>\n",
       "    </tr>\n",
       "    <tr>\n",
       "      <th>6</th>\n",
       "      <td>MTB</td>\n",
       "      <td>35554</td>\n",
       "    </tr>\n",
       "    <tr>\n",
       "      <th>7</th>\n",
       "      <td>USB</td>\n",
       "      <td>66157</td>\n",
       "    </tr>\n",
       "    <tr>\n",
       "      <th>8</th>\n",
       "      <td>FHN</td>\n",
       "      <td>36397</td>\n",
       "    </tr>\n",
       "    <tr>\n",
       "      <th>9</th>\n",
       "      <td>HBAN</td>\n",
       "      <td>42906</td>\n",
       "    </tr>\n",
       "    <tr>\n",
       "      <th>10</th>\n",
       "      <td>BAC</td>\n",
       "      <td>59408</td>\n",
       "    </tr>\n",
       "    <tr>\n",
       "      <th>11</th>\n",
       "      <td>NTRS</td>\n",
       "      <td>58246</td>\n",
       "    </tr>\n",
       "    <tr>\n",
       "      <th>12</th>\n",
       "      <td>WFC</td>\n",
       "      <td>38703</td>\n",
       "    </tr>\n",
       "    <tr>\n",
       "      <th>13</th>\n",
       "      <td>PNC</td>\n",
       "      <td>60442</td>\n",
       "    </tr>\n",
       "    <tr>\n",
       "      <th>14</th>\n",
       "      <td>KEY</td>\n",
       "      <td>64995</td>\n",
       "    </tr>\n",
       "    <tr>\n",
       "      <th>15</th>\n",
       "      <td>STI</td>\n",
       "      <td>68144</td>\n",
       "    </tr>\n",
       "    <tr>\n",
       "      <th>16</th>\n",
       "      <td>ZION</td>\n",
       "      <td>84129</td>\n",
       "    </tr>\n",
       "    <tr>\n",
       "      <th>17</th>\n",
       "      <td>TFC</td>\n",
       "      <td>71563</td>\n",
       "    </tr>\n",
       "    <tr>\n",
       "      <th>19</th>\n",
       "      <td>PBCT</td>\n",
       "      <td>12073</td>\n",
       "    </tr>\n",
       "    <tr>\n",
       "      <th>20</th>\n",
       "      <td>SIVB</td>\n",
       "      <td>11786</td>\n",
       "    </tr>\n",
       "  </tbody>\n",
       "</table>\n",
       "</div>"
      ],
      "text/plain": [
       "     tic  permno\n",
       "0     BK   49656\n",
       "1    JPM   47896\n",
       "3      C   70519\n",
       "4   FITB   34746\n",
       "5     RF   35044\n",
       "6    MTB   35554\n",
       "7    USB   66157\n",
       "8    FHN   36397\n",
       "9   HBAN   42906\n",
       "10   BAC   59408\n",
       "11  NTRS   58246\n",
       "12   WFC   38703\n",
       "13   PNC   60442\n",
       "14   KEY   64995\n",
       "15   STI   68144\n",
       "16  ZION   84129\n",
       "17   TFC   71563\n",
       "19  PBCT   12073\n",
       "20  SIVB   11786"
      ]
     },
     "execution_count": 3,
     "metadata": {},
     "output_type": "execute_result"
    }
   ],
   "source": [
    "bank_perm_tic = pd.DataFrame(list(zip(perm_list, tic_list)), \n",
    "               columns =['permno', 'tic']) \n",
    "bank_perm_tic = bank_perm_tic[bank_perm_tic['tic']!='CMA']\n",
    "bank_perm_tic = bank_perm_tic[bank_perm_tic['tic']!='CFG']\n",
    "bank_perm_tic = bank_perm_tic[bank_perm_tic['tic']!='FRC']\n",
    "bank_perm_tic[['tic', 'permno']]"
   ]
  },
  {
   "cell_type": "code",
   "execution_count": 4,
   "metadata": {},
   "outputs": [
    {
     "data": {
      "text/html": [
       "<div>\n",
       "<style scoped>\n",
       "    .dataframe tbody tr th:only-of-type {\n",
       "        vertical-align: middle;\n",
       "    }\n",
       "\n",
       "    .dataframe tbody tr th {\n",
       "        vertical-align: top;\n",
       "    }\n",
       "\n",
       "    .dataframe thead th {\n",
       "        text-align: right;\n",
       "    }\n",
       "</style>\n",
       "<table border=\"1\" class=\"dataframe\">\n",
       "  <thead>\n",
       "    <tr style=\"text-align: right;\">\n",
       "      <th></th>\n",
       "      <th>permno</th>\n",
       "      <th>edate</th>\n",
       "      <th>situation</th>\n",
       "    </tr>\n",
       "  </thead>\n",
       "  <tbody>\n",
       "    <tr>\n",
       "      <th>0</th>\n",
       "      <td>54594</td>\n",
       "      <td>20120615</td>\n",
       "      <td>The Board of Directors of AAR Corp. (NYSE:AIR)...</td>\n",
       "    </tr>\n",
       "    <tr>\n",
       "      <th>1</th>\n",
       "      <td>54594</td>\n",
       "      <td>20150316</td>\n",
       "      <td>The Board of Directors of AAR Corp. has author...</td>\n",
       "    </tr>\n",
       "    <tr>\n",
       "      <th>2</th>\n",
       "      <td>54594</td>\n",
       "      <td>20150318</td>\n",
       "      <td>AAR Corp. (NYSE:AIR) announces a share repurch...</td>\n",
       "    </tr>\n",
       "    <tr>\n",
       "      <th>3</th>\n",
       "      <td>54594</td>\n",
       "      <td>20170710</td>\n",
       "      <td>The Board of Directors of AAR Corp. has author...</td>\n",
       "    </tr>\n",
       "    <tr>\n",
       "      <th>4</th>\n",
       "      <td>54594</td>\n",
       "      <td>20170711</td>\n",
       "      <td>AAR Corp. (NYSE:AIR) announces a share repurch...</td>\n",
       "    </tr>\n",
       "  </tbody>\n",
       "</table>\n",
       "</div>"
      ],
      "text/plain": [
       "   permno     edate                                          situation\n",
       "0   54594  20120615  The Board of Directors of AAR Corp. (NYSE:AIR)...\n",
       "1   54594  20150316  The Board of Directors of AAR Corp. has author...\n",
       "2   54594  20150318  AAR Corp. (NYSE:AIR) announces a share repurch...\n",
       "3   54594  20170710  The Board of Directors of AAR Corp. has author...\n",
       "4   54594  20170711  AAR Corp. (NYSE:AIR) announces a share repurch..."
      ]
     },
     "execution_count": 4,
     "metadata": {},
     "output_type": "execute_result"
    }
   ],
   "source": [
    "all_wrds = pd.read_csv('events09_17.csv')[['permno', 'edate', 'situation']]\n",
    "all_wrds.head()"
   ]
  },
  {
   "cell_type": "code",
   "execution_count": 5,
   "metadata": {},
   "outputs": [],
   "source": [
    "BK = all_wrds[all_wrds['permno']==49656]\n",
    "JPM = all_wrds[all_wrds['permno']==47896]\n",
    "C = all_wrds[all_wrds['permno']==70519]\n",
    "FITB = all_wrds[all_wrds['permno']==34746]\n",
    "RF = all_wrds[all_wrds['permno']==35044]\n",
    "MTB = all_wrds[all_wrds['permno']==35554]\n",
    "USB = all_wrds[all_wrds['permno']==66157]\n",
    "FHN = all_wrds[all_wrds['permno']==36397]\n",
    "HBAN = all_wrds[all_wrds['permno']==42906]\n",
    "BAC = all_wrds[all_wrds['permno']==59408]\n",
    "NTRS = all_wrds[all_wrds['permno']==58246]\n",
    "WFC = all_wrds[all_wrds['permno']==38703]\n",
    "PNC = all_wrds[all_wrds['permno']==60442]\n",
    "KEY = all_wrds[all_wrds['permno']==64995]\n",
    "STI = all_wrds[all_wrds['permno']==68144]\n",
    "ZION = all_wrds[all_wrds['permno']==84129]\n",
    "TFC = all_wrds[all_wrds['permno']==71563]\n",
    "PBCT = all_wrds[all_wrds['permno']==12073]\n",
    "SIVB = all_wrds[all_wrds['permno']==11786]"
   ]
  },
  {
   "cell_type": "code",
   "execution_count": 6,
   "metadata": {},
   "outputs": [],
   "source": [
    "frames = [BK, JPM, C, FITB, RF, MTB, USB, FHN, HBAN, BAC, \n",
    "         NTRS, WFC, PNC, KEY, STI, ZION, TFC, PBCT, SIVB]\n",
    "rep_events = pd.concat(frames)\n",
    "rep_events.to_csv('rep_events.csv', index= False)"
   ]
  },
  {
   "cell_type": "code",
   "execution_count": 8,
   "metadata": {},
   "outputs": [],
   "source": [
    "tic_list_events = []\n",
    "for perm in rep_events['permno']:\n",
    "    if perm ==  49656:\n",
    "        tic_list_events.append('BK')\n",
    "    if perm ==  47896:\n",
    "        tic_list_events.append('JPM')\n",
    "    if perm ==  70519:\n",
    "        tic_list_events.append('C')\n",
    "    if perm ==  34746:\n",
    "        tic_list_events.append('FITB')\n",
    "    if perm ==  35044:\n",
    "        tic_list_events.append('RF')\n",
    "    if perm ==  35554:\n",
    "        tic_list_events.append('MTB')\n",
    "    if perm ==  66157:\n",
    "        tic_list_events.append('USB')\n",
    "    if perm ==  36397:\n",
    "        tic_list_events.append('FHN')\n",
    "    if perm ==  42906:\n",
    "        tic_list_events.append('HBAN')\n",
    "    if perm ==  59408:\n",
    "        tic_list_events.append('BAC')\n",
    "    if perm ==  58246:\n",
    "        tic_list_events.append('NTRS')\n",
    "    if perm ==  38703:\n",
    "        tic_list_events.append('WFC')\n",
    "    if perm ==  60442:\n",
    "        tic_list_events.append('PNC')\n",
    "    if perm ==  64995:\n",
    "        tic_list_events.append('KEY')\n",
    "    if perm ==  68144:\n",
    "        tic_list_events.append('STI')\n",
    "    if perm ==  84129:\n",
    "        tic_list_events.append('ZION')\n",
    "    if perm ==  71563:\n",
    "        tic_list_events.append('TFC')\n",
    "    if perm ==  12073:\n",
    "        tic_list_events.append('PBCT')\n",
    "    if perm ==  11786:\n",
    "        tic_list_events.append('SIVB')"
   ]
  },
  {
   "cell_type": "code",
   "execution_count": 11,
   "metadata": {},
   "outputs": [
    {
     "data": {
      "text/html": [
       "<div>\n",
       "<style scoped>\n",
       "    .dataframe tbody tr th:only-of-type {\n",
       "        vertical-align: middle;\n",
       "    }\n",
       "\n",
       "    .dataframe tbody tr th {\n",
       "        vertical-align: top;\n",
       "    }\n",
       "\n",
       "    .dataframe thead th {\n",
       "        text-align: right;\n",
       "    }\n",
       "</style>\n",
       "<table border=\"1\" class=\"dataframe\">\n",
       "  <thead>\n",
       "    <tr style=\"text-align: right;\">\n",
       "      <th></th>\n",
       "      <th>tic</th>\n",
       "      <th>permno</th>\n",
       "      <th>edate</th>\n",
       "      <th>situation</th>\n",
       "    </tr>\n",
       "  </thead>\n",
       "  <tbody>\n",
       "    <tr>\n",
       "      <th>280</th>\n",
       "      <td>BK</td>\n",
       "      <td>49656</td>\n",
       "      <td>20120313</td>\n",
       "      <td>The Board of Directors of The Bank of New York...</td>\n",
       "    </tr>\n",
       "    <tr>\n",
       "      <th>281</th>\n",
       "      <td>BK</td>\n",
       "      <td>49656</td>\n",
       "      <td>20130314</td>\n",
       "      <td>The Board of Directors of The Bank of New York...</td>\n",
       "    </tr>\n",
       "    <tr>\n",
       "      <th>282</th>\n",
       "      <td>BK</td>\n",
       "      <td>49656</td>\n",
       "      <td>20140326</td>\n",
       "      <td>The Bank of New York Mellon Corporation (NYSE:...</td>\n",
       "    </tr>\n",
       "    <tr>\n",
       "      <th>283</th>\n",
       "      <td>BK</td>\n",
       "      <td>49656</td>\n",
       "      <td>20140326</td>\n",
       "      <td>The Board of Directors of The Bank of New York...</td>\n",
       "    </tr>\n",
       "    <tr>\n",
       "      <th>284</th>\n",
       "      <td>BK</td>\n",
       "      <td>49656</td>\n",
       "      <td>20150311</td>\n",
       "      <td>The Board of Directors of The Bank of New York...</td>\n",
       "    </tr>\n",
       "  </tbody>\n",
       "</table>\n",
       "</div>"
      ],
      "text/plain": [
       "    tic  permno     edate                                          situation\n",
       "280  BK   49656  20120313  The Board of Directors of The Bank of New York...\n",
       "281  BK   49656  20130314  The Board of Directors of The Bank of New York...\n",
       "282  BK   49656  20140326  The Bank of New York Mellon Corporation (NYSE:...\n",
       "283  BK   49656  20140326  The Board of Directors of The Bank of New York...\n",
       "284  BK   49656  20150311  The Board of Directors of The Bank of New York..."
      ]
     },
     "execution_count": 11,
     "metadata": {},
     "output_type": "execute_result"
    }
   ],
   "source": [
    "rep_events['tic'] = tic_list_events\n",
    "rep_events = rep_events[['tic', 'permno', 'edate', 'situation']]\n",
    "rep_events.head()"
   ]
  },
  {
   "cell_type": "code",
   "execution_count": 13,
   "metadata": {},
   "outputs": [],
   "source": [
    "rep_events.to_csv('rep_events_tic.csv', index = False)"
   ]
  },
  {
   "cell_type": "code",
   "execution_count": 15,
   "metadata": {},
   "outputs": [
    {
     "data": {
      "text/plain": [
       "USB     13\n",
       "NTRS    13\n",
       "BAC     11\n",
       "KEY     10\n",
       "BK      10\n",
       "RF       9\n",
       "C        9\n",
       "STI      9\n",
       "HBAN     8\n",
       "JPM      8\n",
       "FITB     7\n",
       "TFC      6\n",
       "MTB      6\n",
       "ZION     4\n",
       "FHN      4\n",
       "PBCT     3\n",
       "WFC      3\n",
       "PNC      2\n",
       "Name: tic, dtype: int64"
      ]
     },
     "execution_count": 15,
     "metadata": {},
     "output_type": "execute_result"
    }
   ],
   "source": [
    "rep_events['tic'].value_counts()"
   ]
  },
  {
   "cell_type": "code",
   "execution_count": 16,
   "metadata": {},
   "outputs": [
    {
     "data": {
      "text/plain": [
       "280     20120313\n",
       "281     20130314\n",
       "282     20140326\n",
       "285     20150311\n",
       "286     20160629\n",
       "          ...   \n",
       "2750    20160727\n",
       "2752    20170629\n",
       "3876    20110121\n",
       "3877    20111020\n",
       "3878    20121126\n",
       "Name: edate, Length: 81, dtype: int64"
      ]
     },
     "execution_count": 16,
     "metadata": {},
     "output_type": "execute_result"
    }
   ],
   "source": [
    "filt_rep = rep_events[rep_events['situation'].str.contains(\"up to\")]\n",
    "len(filt_rep['permno'])\n",
    "filt_rep['edate']"
   ]
  },
  {
   "cell_type": "code",
   "execution_count": 17,
   "metadata": {},
   "outputs": [],
   "source": [
    "years = []\n",
    "months = []\n",
    "days = []\n",
    "for date in filt_rep['edate']:\n",
    "    year = str(date)[:4]\n",
    "    years.append(year)\n",
    "    \n",
    "    month = str(date)[4:6]\n",
    "    months.append(month)\n",
    "    \n",
    "    day = str(date)[6:]\n",
    "    days.append(day)"
   ]
  },
  {
   "cell_type": "code",
   "execution_count": 18,
   "metadata": {},
   "outputs": [],
   "source": [
    "rep_mdy = []\n",
    "for m, d, y in zip(months, days, years):\n",
    "    rep_mdy.append(\"\"\"{}/{}/{}\"\"\".format(m, d, y))"
   ]
  },
  {
   "cell_type": "code",
   "execution_count": 19,
   "metadata": {},
   "outputs": [
    {
     "name": "stderr",
     "output_type": "stream",
     "text": [
      "<ipython-input-19-c261e64078bf>:1: SettingWithCopyWarning: \n",
      "A value is trying to be set on a copy of a slice from a DataFrame.\n",
      "Try using .loc[row_indexer,col_indexer] = value instead\n",
      "\n",
      "See the caveats in the documentation: https://pandas.pydata.org/pandas-docs/stable/user_guide/indexing.html#returning-a-view-versus-a-copy\n",
      "  filt_rep['date'] = rep_mdy\n"
     ]
    },
    {
     "data": {
      "text/html": [
       "<div>\n",
       "<style scoped>\n",
       "    .dataframe tbody tr th:only-of-type {\n",
       "        vertical-align: middle;\n",
       "    }\n",
       "\n",
       "    .dataframe tbody tr th {\n",
       "        vertical-align: top;\n",
       "    }\n",
       "\n",
       "    .dataframe thead th {\n",
       "        text-align: right;\n",
       "    }\n",
       "</style>\n",
       "<table border=\"1\" class=\"dataframe\">\n",
       "  <thead>\n",
       "    <tr style=\"text-align: right;\">\n",
       "      <th></th>\n",
       "      <th>tic</th>\n",
       "      <th>permno</th>\n",
       "      <th>edate</th>\n",
       "      <th>situation</th>\n",
       "      <th>date</th>\n",
       "    </tr>\n",
       "  </thead>\n",
       "  <tbody>\n",
       "    <tr>\n",
       "      <th>280</th>\n",
       "      <td>BK</td>\n",
       "      <td>49656</td>\n",
       "      <td>20120313</td>\n",
       "      <td>The Board of Directors of The Bank of New York...</td>\n",
       "      <td>03/13/2012</td>\n",
       "    </tr>\n",
       "    <tr>\n",
       "      <th>281</th>\n",
       "      <td>BK</td>\n",
       "      <td>49656</td>\n",
       "      <td>20130314</td>\n",
       "      <td>The Board of Directors of The Bank of New York...</td>\n",
       "      <td>03/14/2013</td>\n",
       "    </tr>\n",
       "    <tr>\n",
       "      <th>282</th>\n",
       "      <td>BK</td>\n",
       "      <td>49656</td>\n",
       "      <td>20140326</td>\n",
       "      <td>The Bank of New York Mellon Corporation (NYSE:...</td>\n",
       "      <td>03/26/2014</td>\n",
       "    </tr>\n",
       "    <tr>\n",
       "      <th>285</th>\n",
       "      <td>BK</td>\n",
       "      <td>49656</td>\n",
       "      <td>20150311</td>\n",
       "      <td>The Bank of New York Mellon Corporation (NYSE:...</td>\n",
       "      <td>03/11/2015</td>\n",
       "    </tr>\n",
       "    <tr>\n",
       "      <th>286</th>\n",
       "      <td>BK</td>\n",
       "      <td>49656</td>\n",
       "      <td>20160629</td>\n",
       "      <td>The Bank of New York Mellon Corporation (NYSE:...</td>\n",
       "      <td>06/29/2016</td>\n",
       "    </tr>\n",
       "  </tbody>\n",
       "</table>\n",
       "</div>"
      ],
      "text/plain": [
       "    tic  permno     edate                                          situation  \\\n",
       "280  BK   49656  20120313  The Board of Directors of The Bank of New York...   \n",
       "281  BK   49656  20130314  The Board of Directors of The Bank of New York...   \n",
       "282  BK   49656  20140326  The Bank of New York Mellon Corporation (NYSE:...   \n",
       "285  BK   49656  20150311  The Bank of New York Mellon Corporation (NYSE:...   \n",
       "286  BK   49656  20160629  The Bank of New York Mellon Corporation (NYSE:...   \n",
       "\n",
       "           date  \n",
       "280  03/13/2012  \n",
       "281  03/14/2013  \n",
       "282  03/26/2014  \n",
       "285  03/11/2015  \n",
       "286  06/29/2016  "
      ]
     },
     "execution_count": 19,
     "metadata": {},
     "output_type": "execute_result"
    }
   ],
   "source": [
    "filt_rep['date'] = rep_mdy\n",
    "filt_rep.head()"
   ]
  },
  {
   "cell_type": "code",
   "execution_count": 20,
   "metadata": {},
   "outputs": [
    {
     "data": {
      "text/plain": [
       "81"
      ]
     },
     "execution_count": 20,
     "metadata": {},
     "output_type": "execute_result"
    }
   ],
   "source": [
    "rep_clean = filt_rep[['tic', 'date']]\n",
    "len(rep_clean['tic'])"
   ]
  },
  {
   "cell_type": "code",
   "execution_count": 21,
   "metadata": {},
   "outputs": [
    {
     "name": "stderr",
     "output_type": "stream",
     "text": [
      "<ipython-input-21-35f8bd58509e>:4: SettingWithCopyWarning: \n",
      "A value is trying to be set on a copy of a slice from a DataFrame.\n",
      "Try using .loc[row_indexer,col_indexer] = value instead\n",
      "\n",
      "See the caveats in the documentation: https://pandas.pydata.org/pandas-docs/stable/user_guide/indexing.html#returning-a-view-versus-a-copy\n",
      "  rep_clean['market_ticker'] = market_ticker\n"
     ]
    }
   ],
   "source": [
    "import numpy as np\n",
    "market_ticker = np.array([\"SPY\"] * 81)\n",
    "market_ticker\n",
    "rep_clean['market_ticker'] = market_ticker\n",
    "rep_clean = rep_clean.rename(columns={\"tic\": \"security_ticker\", \"date\": \"event_date\"})\n",
    "rep_clean = rep_clean[['security_ticker', 'market_ticker', 'event_date']]\n",
    "rep_clean.head()\n",
    "rep_clean.to_csv('rep_clean.csv', index= False)"
   ]
  },
  {
   "cell_type": "code",
   "execution_count": null,
   "metadata": {},
   "outputs": [],
   "source": []
  }
 ],
 "metadata": {
  "kernelspec": {
   "display_name": "Python 3",
   "language": "python",
   "name": "python3"
  },
  "language_info": {
   "codemirror_mode": {
    "name": "ipython",
    "version": 3
   },
   "file_extension": ".py",
   "mimetype": "text/x-python",
   "name": "python",
   "nbconvert_exporter": "python",
   "pygments_lexer": "ipython3",
   "version": "3.8.2"
  }
 },
 "nbformat": 4,
 "nbformat_minor": 4
}
